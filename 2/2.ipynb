{
 "cells": [
  {
   "cell_type": "code",
   "execution_count": 1,
   "metadata": {},
   "outputs": [
    {
     "name": "stdout",
     "output_type": "stream",
     "text": [
      "../data/notMNIST_small.tar.gz\n",
      "File already exists.\n"
     ]
    }
   ],
   "source": [
    "from download_dataset import download\n",
    "\n",
    "download()"
   ]
  },
  {
   "cell_type": "code",
   "execution_count": 2,
   "metadata": {},
   "outputs": [],
   "source": [
    "im_root = '../data/notMNIST_small'"
   ]
  },
  {
   "cell_type": "code",
   "execution_count": 3,
   "metadata": {},
   "outputs": [],
   "source": [
    "import os\n",
    "import matplotlib.pyplot as plt\n",
    "import random\n",
    "import numpy as np"
   ]
  },
  {
   "cell_type": "code",
   "execution_count": 4,
   "metadata": {},
   "outputs": [],
   "source": [
    "classes_statistic = {}\n",
    "\n",
    "for class_dir in os.listdir(im_root):\n",
    "    class_path = os.path.join(im_root, class_dir)\n",
    "    classes_statistic[class_dir] = len([name for name in os.listdir(class_path)])\n",
    "    \n",
    "total_count = sum(classes_statistic.values())"
   ]
  },
  {
   "cell_type": "code",
   "execution_count": 5,
   "metadata": {},
   "outputs": [],
   "source": [
    "import cv2\n",
    "from tqdm import tqdm\n",
    "\n",
    "from config import image_size, pixel_depth\n",
    "from config import train_percentage, test_percentage"
   ]
  },
  {
   "cell_type": "code",
   "execution_count": 6,
   "metadata": {},
   "outputs": [],
   "source": [
    "train_size = int(total_count * train_percentage)\n",
    "test_size = int(total_count * test_percentage)"
   ]
  },
  {
   "cell_type": "code",
   "execution_count": 7,
   "metadata": {},
   "outputs": [],
   "source": [
    "X = []\n",
    "y = []"
   ]
  },
  {
   "cell_type": "code",
   "execution_count": 8,
   "metadata": {},
   "outputs": [
    {
     "name": "stderr",
     "output_type": "stream",
     "text": [
      "100%|██████████| 1872/1872 [00:00<00:00, 3780.41it/s]\n",
      "100%|██████████| 1872/1872 [00:00<00:00, 3385.39it/s]\n",
      "100%|██████████| 1873/1873 [00:00<00:00, 3592.41it/s]\n",
      "100%|██████████| 1873/1873 [00:00<00:00, 3246.55it/s]\n",
      "100%|██████████| 1872/1872 [00:00<00:00, 3570.45it/s]\n",
      "100%|██████████| 1872/1872 [00:00<00:00, 3466.56it/s]\n",
      "100%|██████████| 1873/1873 [00:00<00:00, 3332.49it/s]\n",
      "100%|██████████| 1873/1873 [00:00<00:00, 3107.27it/s]\n",
      "100%|██████████| 1873/1873 [00:00<00:00, 3328.29it/s]\n",
      "100%|██████████| 1873/1873 [00:00<00:00, 3266.27it/s]\n"
     ]
    }
   ],
   "source": [
    "dirs = os.listdir(im_root)\n",
    "\n",
    "label_dict = {}\n",
    "\n",
    "counter = 0\n",
    "\n",
    "for id_class, dir_class in enumerate(dirs):\n",
    "    label_dict[id_class] = dir_class\n",
    "    for image in tqdm(os.listdir(os.path.join(im_root, dir_class))):\n",
    "        try:\n",
    "            X.append(plt.imread(os.path.join(im_root, dir_class, image)).reshape(-1, image_size * image_size)[0])\n",
    "#             l = [0] * 10\n",
    "#             l[id_class]=1\n",
    "#             y.append(l)\n",
    "            y.append(id_class)\n",
    "            counter += 1\n",
    "        except:\n",
    "            continue"
   ]
  },
  {
   "cell_type": "code",
   "execution_count": 9,
   "metadata": {},
   "outputs": [
    {
     "data": {
      "text/plain": [
       "18724"
      ]
     },
     "execution_count": 9,
     "metadata": {},
     "output_type": "execute_result"
    }
   ],
   "source": [
    "len(X)"
   ]
  },
  {
   "cell_type": "code",
   "execution_count": null,
   "metadata": {},
   "outputs": [],
   "source": []
  },
  {
   "cell_type": "code",
   "execution_count": 10,
   "metadata": {},
   "outputs": [],
   "source": [
    "import torch\n",
    "import torch.nn as nn\n",
    "import torch.nn.functional as F\n",
    "import torch.optim as optim\n",
    "from torch.autograd import Variable"
   ]
  },
  {
   "cell_type": "code",
   "execution_count": 11,
   "metadata": {},
   "outputs": [],
   "source": [
    "x = torch.FloatTensor(X)\n",
    "y = torch.LongTensor(y)"
   ]
  },
  {
   "cell_type": "code",
   "execution_count": 12,
   "metadata": {},
   "outputs": [],
   "source": [
    "# hyperparameters\n",
    "input_size = 784\n",
    "output_size = 10\n",
    "hidden_sizes = [1000, 2000, 1000, 500]\n",
    "\n",
    "epochs = 30\n",
    "batch_size = 256\n",
    "learning_rate = 0.0001"
   ]
  },
  {
   "cell_type": "code",
   "execution_count": 13,
   "metadata": {},
   "outputs": [],
   "source": [
    "class Network(nn.Module):\n",
    "    \n",
    "    def __init__(self):\n",
    "        super(Network, self).__init__()\n",
    "        self.l1 = nn.Linear(input_size, hidden_sizes[0])\n",
    "        self.relu = nn.ReLU()\n",
    "        self.l2 = nn.Linear(hidden_sizes[0], hidden_sizes[1])\n",
    "        self.relu = nn.ReLU()\n",
    "        self.l3 = nn.Linear(hidden_sizes[1], hidden_sizes[2])\n",
    "        self.relu = nn.ReLU()\n",
    "        self.l4 = nn.Linear(hidden_sizes[2], hidden_sizes[3])\n",
    "        self.relu = nn.ReLU()\n",
    "        self.l5 = nn.Linear(hidden_sizes[3], output_size)\n",
    "        \n",
    "    def forward(self, x):\n",
    "        x = self.l1(x)\n",
    "        x = self.relu(x)\n",
    "        x = self.l2(x)\n",
    "        x = self.relu(x)\n",
    "        x = self.l3(x)\n",
    "        x = self.relu(x)\n",
    "        x = self.l4(x)\n",
    "        x = self.relu(x)\n",
    "        x = self.l5(x)\n",
    "        return F.log_softmax(x)"
   ]
  },
  {
   "cell_type": "code",
   "execution_count": 14,
   "metadata": {},
   "outputs": [
    {
     "name": "stdout",
     "output_type": "stream",
     "text": [
      "Network(\n",
      "  (l1): Linear(in_features=784, out_features=1000, bias=True)\n",
      "  (relu): ReLU()\n",
      "  (l2): Linear(in_features=1000, out_features=2000, bias=True)\n",
      "  (l3): Linear(in_features=2000, out_features=1000, bias=True)\n",
      "  (l4): Linear(in_features=1000, out_features=500, bias=True)\n",
      "  (l5): Linear(in_features=500, out_features=10, bias=True)\n",
      ")\n"
     ]
    }
   ],
   "source": [
    "net = Network()\n",
    "print(net)"
   ]
  },
  {
   "cell_type": "code",
   "execution_count": 15,
   "metadata": {},
   "outputs": [],
   "source": [
    "optimizer = optim.SGD(net.parameters(), lr=learning_rate, momentum=0.9)\n",
    "loss_func = nn.CrossEntropyLoss()"
   ]
  },
  {
   "cell_type": "code",
   "execution_count": 16,
   "metadata": {},
   "outputs": [
    {
     "data": {
      "text/plain": [
       "torch.Size([18724, 784])"
      ]
     },
     "execution_count": 16,
     "metadata": {},
     "output_type": "execute_result"
    }
   ],
   "source": [
    "x.shape"
   ]
  },
  {
   "cell_type": "code",
   "execution_count": 17,
   "metadata": {},
   "outputs": [
    {
     "name": "stderr",
     "output_type": "stream",
     "text": [
      "/Users/stasiuk-indata/Documents/Study/master_mo_2/env-mo/lib/python3.7/site-packages/ipykernel_launcher.py:25: UserWarning: Implicit dimension choice for log_softmax has been deprecated. Change the call to include dim=X as an argument.\n"
     ]
    },
    {
     "name": "stdout",
     "output_type": "stream",
     "text": [
      "Epoch: 0 - Loss: 2.297393\n",
      "Epoch: 1 - Loss: 2.297126\n",
      "Epoch: 2 - Loss: 2.296860\n",
      "Epoch: 3 - Loss: 2.296595\n",
      "Epoch: 4 - Loss: 2.296332\n",
      "Epoch: 5 - Loss: 2.296072\n",
      "Epoch: 6 - Loss: 2.295815\n",
      "Epoch: 7 - Loss: 2.295555\n",
      "Epoch: 8 - Loss: 2.295298\n",
      "Epoch: 9 - Loss: 2.295039\n"
     ]
    }
   ],
   "source": [
    "loss_log = []\n",
    "\n",
    "for e in range(epochs):\n",
    "    for i in range(0, x.shape[0]-batch_size, batch_size):\n",
    "\n",
    "        x_mini = x[i:i + batch_size] \n",
    "        y_mini = y[i:i + batch_size] \n",
    "        \n",
    "        x_var = Variable(x_mini)\n",
    "        y_var = Variable(y_mini)\n",
    "        \n",
    "        optimizer.zero_grad()\n",
    "        net_out = net(x_var)\n",
    "        \n",
    "        loss = loss_func(net_out, y_var)\n",
    "        loss.backward()\n",
    "        optimizer.step()\n",
    "        \n",
    "        if i % 1000 == 0:\n",
    "            loss_log.append(loss.data)\n",
    "        \n",
    "    print('Epoch: {} - Loss: {:.6f}'.format(e, loss.data))"
   ]
  },
  {
   "cell_type": "code",
   "execution_count": 18,
   "metadata": {},
   "outputs": [
    {
     "data": {
      "text/plain": [
       "[<matplotlib.lines.Line2D at 0x13db28b10>]"
      ]
     },
     "execution_count": 18,
     "metadata": {},
     "output_type": "execute_result"
    },
    {
     "data": {
      "image/png": "[encoded data removed]",
      "text/plain": [
       "<Figure size 720x576 with 1 Axes>"
      ]
     },
     "metadata": {
      "needs_background": "light"
     },
     "output_type": "display_data"
    }
   ],
   "source": [
    "plt.figure(figsize=(10,8))\n",
    "plt.plot(loss_log)"
   ]
  },
  {
   "cell_type": "code",
   "execution_count": null,
   "metadata": {},
   "outputs": [],
   "source": [
    "test = torch.FloatTensor(test_dataNp.tolist())\n",
    "test_var = Variable(test)\n",
    "\n",
    "net_out = net(test_var)\n",
    "\n",
    "print(torch.max(net_out.data, 1)[1].numpy())"
   ]
  }
 ],
 "metadata": {
  "kernelspec": {
   "display_name": "Python (MO)",
   "language": "python",
   "name": "env-mo"
  },
  "language_info": {
   "codemirror_mode": {
    "name": "ipython",
    "version": 3
   },
   "file_extension": ".py",
   "mimetype": "text/x-python",
   "name": "python",
   "nbconvert_exporter": "python",
   "pygments_lexer": "ipython3",
   "version": "3.7.5"
  }
 },
 "nbformat": 4,
 "nbformat_minor": 2
}
