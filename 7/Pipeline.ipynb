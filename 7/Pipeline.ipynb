{
 "cells": [
  {
   "cell_type": "code",
   "execution_count": 1,
   "metadata": {},
   "outputs": [],
   "source": [
    "from tensorflow.keras.datasets import imdb\n",
    "from tensorflow.keras.models import Sequential\n",
    "from tensorflow.keras.layers import Dense, Embedding, GRU, Bidirectional, LSTM, Dropout\n",
    "from tensorflow.keras import utils\n",
    "from tensorflow.keras.preprocessing.sequence import pad_sequences\n",
    "import numpy as np\n",
    "import matplotlib.pyplot as plt\n",
    "%matplotlib inline "
   ]
  },
  {
   "cell_type": "code",
   "execution_count": 2,
   "metadata": {},
   "outputs": [],
   "source": [
    "max_words=12000\n",
    "(x_train, y_train), (x_test, y_test) = imdb.load_data(num_words=max_words)"
   ]
  },
  {
   "cell_type": "code",
   "execution_count": 3,
   "metadata": {},
   "outputs": [],
   "source": [
    "maxlen = 150"
   ]
  },
  {
   "cell_type": "code",
   "execution_count": 4,
   "metadata": {},
   "outputs": [],
   "source": [
    "x_train = pad_sequences(x_train, maxlen=maxlen)\n",
    "x_test = pad_sequences(x_test, maxlen=maxlen)"
   ]
  },
  {
   "cell_type": "code",
   "execution_count": 5,
   "metadata": {},
   "outputs": [
    {
     "data": {
      "text/plain": [
       "array([ 3072,    19,    90,    88,    29,   385,    99,   946,     5,\n",
       "         630,    34,  5330,    27,   668,  7698,   260,   383,    19,\n",
       "          41,  3586,     5,    95, 11315,    41,    56,    75,    28,\n",
       "           4,   554,    37,     9,  6866,     2,    34,    27,  8176,\n",
       "           5,    37,   266,   344,     5,  3936,    27,  1633,    25,\n",
       "          67,    45,    32,     2,   933,  3374,     4,    64,   542,\n",
       "         561,    11,    14,  3388,  2446,     7,  5174,     9,    54,\n",
       "           4,  1246,  1496,    27,  6256,     2,    45,     6,    52,\n",
       "         155,    14,  2803,    16,   324,    23,   374,    88,   900,\n",
       "          51,     6,   437,     7,  3269,    22,    12,    62,    30,\n",
       "          48,    15,   232,    37,  1291,  2719,  3882,     8,    30,\n",
       "         928,    11,    14,     2,     9,    66,   622,    57,   594,\n",
       "          91,    84,   104,  2719,    26,  2140,    75,   219,    14,\n",
       "        2320,    20,    95,   276,    23,  1456,   255,     4,  3612,\n",
       "         449,    61,   558,    12,    16,     6,     2,    17,     8,\n",
       "          63,    31,    16,   433,    51,     9,   170,    23,    11,\n",
       "        1898,   134,   504,  1195,  1195,  1195], dtype=int32)"
      ]
     },
     "execution_count": 5,
     "metadata": {},
     "output_type": "execute_result"
    }
   ],
   "source": [
    "x_train[13]"
   ]
  },
  {
   "cell_type": "code",
   "execution_count": 6,
   "metadata": {},
   "outputs": [],
   "source": [
    "experiment_epochs = 10"
   ]
  },
  {
   "cell_type": "code",
   "execution_count": 7,
   "metadata": {},
   "outputs": [],
   "source": [
    "def run_pipeline(model, epochs):\n",
    "    model.summary()\n",
    "    \n",
    "    model.compile(optimizer='adam', \n",
    "              loss='binary_crossentropy', \n",
    "              metrics=['accuracy'])\n",
    "\n",
    "    history = model.fit(x_train, \n",
    "                    y_train, \n",
    "                    epochs=10,\n",
    "                    batch_size=128,\n",
    "                    validation_split=0.1,\n",
    "                    validation_steps=3,\n",
    "                    )\n",
    "    \n",
    "    plt.plot(history.history['accuracy'], \n",
    "         label='Accuracy Train')\n",
    "    plt.plot(history.history['val_accuracy'], \n",
    "             label='Accuracy Val')\n",
    "    plt.xlabel('Epoch')\n",
    "    plt.ylabel('Accuracy')\n",
    "    plt.legend()\n",
    "    plt.show()\n",
    "    \n",
    "    scores = model.evaluate(x_test, y_test, verbose=1)"
   ]
  },
  {
   "cell_type": "code",
   "execution_count": 8,
   "metadata": {},
   "outputs": [
    {
     "name": "stdout",
     "output_type": "stream",
     "text": [
      "Model: \"sequential\"\n",
      "_________________________________________________________________\n",
      "Layer (type)                 Output Shape              Param #   \n",
      "=================================================================\n",
      "embedding (Embedding)        (None, None, 150)         1800000   \n",
      "_________________________________________________________________\n",
      "bidirectional (Bidirectional (None, 256)               215040    \n",
      "_________________________________________________________________\n",
      "dense (Dense)                (None, 1)                 257       \n",
      "=================================================================\n",
      "Total params: 2,015,297\n",
      "Trainable params: 2,015,297\n",
      "Non-trainable params: 0\n",
      "_________________________________________________________________\n",
      "Train on 22500 samples, validate on 2500 samples\n",
      "Epoch 1/10\n",
      "22500/22500 [==============================] - 9s 381us/sample - loss: 0.4917 - accuracy: 0.7474 - val_loss: 0.0493 - val_accuracy: 0.8568\n",
      "Epoch 2/10\n",
      "22500/22500 [==============================] - 6s 273us/sample - loss: 0.2436 - accuracy: 0.9032 - val_loss: 0.0471 - val_accuracy: 0.8542\n",
      "Epoch 3/10\n",
      "22500/22500 [==============================] - 6s 274us/sample - loss: 0.1613 - accuracy: 0.9400 - val_loss: 0.0571 - val_accuracy: 0.8646\n",
      "Epoch 4/10\n",
      "22500/22500 [==============================] - 6s 272us/sample - loss: 0.0976 - accuracy: 0.9677 - val_loss: 0.0619 - val_accuracy: 0.8594\n",
      "Epoch 5/10\n",
      "22500/22500 [==============================] - 6s 274us/sample - loss: 0.0532 - accuracy: 0.9832 - val_loss: 0.0606 - val_accuracy: 0.8750\n",
      "Epoch 6/10\n",
      "22500/22500 [==============================] - 6s 275us/sample - loss: 0.0316 - accuracy: 0.9899 - val_loss: 0.0800 - val_accuracy: 0.8828\n",
      "Epoch 7/10\n",
      "22500/22500 [==============================] - 6s 275us/sample - loss: 0.0234 - accuracy: 0.9921 - val_loss: 0.0970 - val_accuracy: 0.8411\n",
      "Epoch 8/10\n",
      "22500/22500 [==============================] - 6s 275us/sample - loss: 0.0228 - accuracy: 0.9920 - val_loss: 0.0932 - val_accuracy: 0.8698\n",
      "Epoch 9/10\n",
      "22500/22500 [==============================] - 6s 275us/sample - loss: 0.0083 - accuracy: 0.9976 - val_loss: 0.1030 - val_accuracy: 0.8594\n",
      "Epoch 10/10\n",
      "22500/22500 [==============================] - 6s 273us/sample - loss: 0.0226 - accuracy: 0.9928 - val_loss: 0.0913 - val_accuracy: 0.8542\n"
     ]
    },
    {
     "data": {
      "image/png": "[encoded data removed]",
      "text/plain": [
       "<Figure size 432x288 with 1 Axes>"
      ]
     },
     "metadata": {
      "needs_background": "light"
     },
     "output_type": "display_data"
    },
    {
     "name": "stdout",
     "output_type": "stream",
     "text": [
      "25000/25000 [==============================] - 4s 163us/sample - loss: 0.7321 - accuracy: 0.8355\n"
     ]
    }
   ],
   "source": [
    "model = Sequential([\n",
    "    Embedding(max_words, maxlen),\n",
    "    Bidirectional(GRU(128), merge_mode='concat'),\n",
    "    Dense(1, activation='sigmoid')\n",
    "])\n",
    "\n",
    "run_pipeline(model, epochs=experiment_epochs)"
   ]
  },
  {
   "cell_type": "code",
   "execution_count": 9,
   "metadata": {},
   "outputs": [
    {
     "name": "stdout",
     "output_type": "stream",
     "text": [
      "Model: \"sequential_1\"\n",
      "_________________________________________________________________\n",
      "Layer (type)                 Output Shape              Param #   \n",
      "=================================================================\n",
      "embedding_1 (Embedding)      (None, None, 150)         1800000   \n",
      "_________________________________________________________________\n",
      "bidirectional_1 (Bidirection (None, 256)               285696    \n",
      "_________________________________________________________________\n",
      "dense_1 (Dense)              (None, 1)                 257       \n",
      "=================================================================\n",
      "Total params: 2,085,953\n",
      "Trainable params: 2,085,953\n",
      "Non-trainable params: 0\n",
      "_________________________________________________________________\n",
      "Train on 22500 samples, validate on 2500 samples\n",
      "Epoch 1/10\n",
      "22500/22500 [==============================] - 8s 373us/sample - loss: 0.4588 - accuracy: 0.7790 - val_loss: 0.0539 - val_accuracy: 0.8698\n",
      "Epoch 2/10\n",
      "22500/22500 [==============================] - 7s 298us/sample - loss: 0.2513 - accuracy: 0.9010 - val_loss: 0.0528 - val_accuracy: 0.8594\n",
      "Epoch 3/10\n",
      "22500/22500 [==============================] - 7s 301us/sample - loss: 0.1777 - accuracy: 0.9345 - val_loss: 0.0544 - val_accuracy: 0.8698\n",
      "Epoch 4/10\n",
      "22500/22500 [==============================] - 7s 297us/sample - loss: 0.1210 - accuracy: 0.9574 - val_loss: 0.0548 - val_accuracy: 0.8568\n",
      "Epoch 5/10\n",
      "22500/22500 [==============================] - 7s 298us/sample - loss: 0.0823 - accuracy: 0.9724 - val_loss: 0.0697 - val_accuracy: 0.8594\n",
      "Epoch 6/10\n",
      "22500/22500 [==============================] - 7s 299us/sample - loss: 0.0638 - accuracy: 0.9790 - val_loss: 0.0690 - val_accuracy: 0.8620\n",
      "Epoch 7/10\n",
      "22500/22500 [==============================] - 7s 300us/sample - loss: 0.0581 - accuracy: 0.9809 - val_loss: 0.0721 - val_accuracy: 0.8490\n",
      "Epoch 8/10\n",
      "22500/22500 [==============================] - 7s 299us/sample - loss: 0.0445 - accuracy: 0.9865 - val_loss: 0.1054 - val_accuracy: 0.8359\n",
      "Epoch 9/10\n",
      "22500/22500 [==============================] - 7s 295us/sample - loss: 0.0305 - accuracy: 0.9912 - val_loss: 0.0918 - val_accuracy: 0.8411\n",
      "Epoch 10/10\n",
      "22500/22500 [==============================] - 7s 297us/sample - loss: 0.0312 - accuracy: 0.9900 - val_loss: 0.1135 - val_accuracy: 0.8307\n"
     ]
    },
    {
     "data": {
      "image/png": "[encoded data removed]",
      "text/plain": [
       "<Figure size 432x288 with 1 Axes>"
      ]
     },
     "metadata": {
      "needs_background": "light"
     },
     "output_type": "display_data"
    },
    {
     "name": "stdout",
     "output_type": "stream",
     "text": [
      "25000/25000 [==============================] - 5s 196us/sample - loss: 0.7542 - accuracy: 0.8436\n"
     ]
    }
   ],
   "source": [
    "model = Sequential([\n",
    "    Embedding(max_words, maxlen),\n",
    "    Bidirectional(LSTM(128), merge_mode='concat'),\n",
    "    Dense(1, activation='sigmoid')\n",
    "])\n",
    "\n",
    "run_pipeline(model, epochs=experiment_epochs)"
   ]
  },
  {
   "cell_type": "code",
   "execution_count": 10,
   "metadata": {},
   "outputs": [
    {
     "name": "stdout",
     "output_type": "stream",
     "text": [
      "Model: \"sequential_2\"\n",
      "_________________________________________________________________\n",
      "Layer (type)                 Output Shape              Param #   \n",
      "=================================================================\n",
      "embedding_2 (Embedding)      (None, None, 150)         1800000   \n",
      "_________________________________________________________________\n",
      "bidirectional_2 (Bidirection (None, None, 256)         285696    \n",
      "_________________________________________________________________\n",
      "bidirectional_3 (Bidirection (None, 256)               394240    \n",
      "_________________________________________________________________\n",
      "dense_2 (Dense)              (None, 128)               32896     \n",
      "_________________________________________________________________\n",
      "dropout (Dropout)            (None, 128)               0         \n",
      "_________________________________________________________________\n",
      "dense_3 (Dense)              (None, 1)                 129       \n",
      "=================================================================\n",
      "Total params: 2,512,961\n",
      "Trainable params: 2,512,961\n",
      "Non-trainable params: 0\n",
      "_________________________________________________________________\n",
      "Train on 22500 samples, validate on 2500 samples\n",
      "Epoch 1/10\n",
      "22500/22500 [==============================] - 16s 691us/sample - loss: 0.4093 - accuracy: 0.8035 - val_loss: 0.0506 - val_accuracy: 0.8594\n",
      "Epoch 2/10\n",
      "22500/22500 [==============================] - 12s 551us/sample - loss: 0.2144 - accuracy: 0.9178 - val_loss: 0.0557 - val_accuracy: 0.8490\n",
      "Epoch 3/10\n",
      "22500/22500 [==============================] - 12s 552us/sample - loss: 0.1349 - accuracy: 0.9514 - val_loss: 0.0547 - val_accuracy: 0.8620\n",
      "Epoch 4/10\n",
      "22500/22500 [==============================] - 12s 550us/sample - loss: 0.0927 - accuracy: 0.9682 - val_loss: 0.0712 - val_accuracy: 0.8568\n",
      "Epoch 5/10\n",
      "22500/22500 [==============================] - 12s 552us/sample - loss: 0.0630 - accuracy: 0.9790 - val_loss: 0.0700 - val_accuracy: 0.8464\n",
      "Epoch 6/10\n",
      "22500/22500 [==============================] - 12s 550us/sample - loss: 0.0482 - accuracy: 0.9839 - val_loss: 0.0758 - val_accuracy: 0.8594\n",
      "Epoch 7/10\n",
      "22500/22500 [==============================] - 12s 549us/sample - loss: 0.0296 - accuracy: 0.9901 - val_loss: 0.0938 - val_accuracy: 0.8516\n",
      "Epoch 8/10\n",
      "22500/22500 [==============================] - 12s 545us/sample - loss: 0.0258 - accuracy: 0.9914 - val_loss: 0.0977 - val_accuracy: 0.8620\n",
      "Epoch 9/10\n",
      "22500/22500 [==============================] - 12s 550us/sample - loss: 0.0298 - accuracy: 0.9896 - val_loss: 0.0921 - val_accuracy: 0.8646\n",
      "Epoch 10/10\n",
      "22500/22500 [==============================] - 12s 547us/sample - loss: 0.0368 - accuracy: 0.9871 - val_loss: 0.1058 - val_accuracy: 0.8542\n"
     ]
    },
    {
     "data": {
      "image/png": "[encoded data removed]",
      "text/plain": [
       "<Figure size 432x288 with 1 Axes>"
      ]
     },
     "metadata": {
      "needs_background": "light"
     },
     "output_type": "display_data"
    },
    {
     "name": "stdout",
     "output_type": "stream",
     "text": [
      "25000/25000 [==============================] - 8s 319us/sample - loss: 0.8505 - accuracy: 0.8324\n"
     ]
    }
   ],
   "source": [
    "model = Sequential([\n",
    "    Embedding(max_words, maxlen),\n",
    "    Bidirectional(LSTM(128, return_sequences=True), merge_mode='concat'),\n",
    "    Bidirectional(LSTM(128), merge_mode='concat'),\n",
    "    Dense(128, activation='elu'),\n",
    "    Dropout(0.25),\n",
    "    Dense(1, activation='sigmoid')\n",
    "])\n",
    "\n",
    "run_pipeline(model, epochs=experiment_epochs)"
   ]
  },
  {
   "cell_type": "code",
   "execution_count": 11,
   "metadata": {},
   "outputs": [],
   "source": [
    "embeddings_index = {}\n",
    "with open(\"glove.840B.300d.txt\", \"r\") as in_file:\n",
    "    for line in in_file:\n",
    "        values = line.split()\n",
    "        try:\n",
    "            word = values[0]\n",
    "            embeddings_index[word] = np.asarray(values[1:], dtype=np.float32)\n",
    "        except:\n",
    "            pass"
   ]
  },
  {
   "cell_type": "code",
   "execution_count": 12,
   "metadata": {},
   "outputs": [
    {
     "data": {
      "text/plain": [
       "2195884"
      ]
     },
     "execution_count": 12,
     "metadata": {},
     "output_type": "execute_result"
    }
   ],
   "source": [
    "len(embeddings_index)"
   ]
  },
  {
   "cell_type": "code",
   "execution_count": 13,
   "metadata": {},
   "outputs": [
    {
     "name": "stderr",
     "output_type": "stream",
     "text": [
      "WARNING:absl:TFDS datasets with text encoding are deprecated and will be removed in a future version. Instead, you should use the plain text version and tokenize the text using `tensorflow_text` (See: https://www.tensorflow.org/tutorials/tensorflow_text/intro#tfdata_example)\n"
     ]
    }
   ],
   "source": [
    "import tensorflow_datasets as tfds\n",
    "dataset, info = tfds.load('imdb_reviews/subwords8k', with_info=True, as_supervised=True)\n",
    "train_dataset, test_dataset = dataset['train'], dataset['test']\n",
    "encoder = info.features['text'].encoder"
   ]
  },
  {
   "cell_type": "code",
   "execution_count": 14,
   "metadata": {},
   "outputs": [],
   "source": [
    "train_dataset = train_dataset.shuffle(12000).padded_batch(128, padded_shapes=([None], []))\n",
    "test_dataset = test_dataset.padded_batch(128, padded_shapes=([None], []))"
   ]
  },
  {
   "cell_type": "code",
   "execution_count": 15,
   "metadata": {},
   "outputs": [],
   "source": [
    "import numpy as np\n",
    "\n",
    "embedding_matrix = np.zeros((encoder.vocab_size, 300))\n",
    "\n",
    "# 0 is used for padding in Keras\n",
    "for index, word in enumerate(encoder.subwords, 1):\n",
    "    word = word.lower()\n",
    "    \n",
    "    # lives_ ==> lives\n",
    "    if word.endswith(\"_\"):\n",
    "        word = word[:-1]\n",
    "\n",
    "    embedding_vector = embeddings_index.get(word)\n",
    "    if embedding_vector is not None:\n",
    "        embedding_matrix[index] = embedding_vector"
   ]
  },
  {
   "cell_type": "code",
   "execution_count": 17,
   "metadata": {},
   "outputs": [
    {
     "name": "stdout",
     "output_type": "stream",
     "text": [
      "Model: \"sequential_3\"\n",
      "_________________________________________________________________\n",
      "Layer (type)                 Output Shape              Param #   \n",
      "=================================================================\n",
      "embedding_3 (Embedding)      (None, None, 300)         2455500   \n",
      "_________________________________________________________________\n",
      "bidirectional_4 (Bidirection (None, None, 64)          85248     \n",
      "_________________________________________________________________\n",
      "bidirectional_5 (Bidirection (None, 64)                24832     \n",
      "_________________________________________________________________\n",
      "dense_4 (Dense)              (None, 32)                2080      \n",
      "_________________________________________________________________\n",
      "dropout_1 (Dropout)          (None, 32)                0         \n",
      "_________________________________________________________________\n",
      "dense_5 (Dense)              (None, 1)                 33        \n",
      "=================================================================\n",
      "Total params: 2,567,693\n",
      "Trainable params: 112,193\n",
      "Non-trainable params: 2,455,500\n",
      "_________________________________________________________________\n",
      "Epoch 1/10\n",
      "196/196 [==============================] - 59s 301ms/step - loss: 0.6682 - accuracy: 0.5784 - val_loss: 0.6452 - val_accuracy: 0.6432\n",
      "Epoch 2/10\n",
      "196/196 [==============================] - 56s 283ms/step - loss: 0.5986 - accuracy: 0.6862 - val_loss: 0.6271 - val_accuracy: 0.6615\n",
      "Epoch 3/10\n",
      "196/196 [==============================] - 56s 285ms/step - loss: 0.5835 - accuracy: 0.6980 - val_loss: 0.6206 - val_accuracy: 0.6693\n",
      "Epoch 4/10\n",
      "196/196 [==============================] - 56s 287ms/step - loss: 0.5779 - accuracy: 0.7035 - val_loss: 0.6054 - val_accuracy: 0.6823\n",
      "Epoch 5/10\n",
      "196/196 [==============================] - 56s 285ms/step - loss: 0.5571 - accuracy: 0.7201 - val_loss: 0.6063 - val_accuracy: 0.6953\n",
      "Epoch 6/10\n",
      "196/196 [==============================] - 56s 286ms/step - loss: 0.5518 - accuracy: 0.7246 - val_loss: 0.6007 - val_accuracy: 0.6901\n",
      "Epoch 7/10\n",
      "196/196 [==============================] - 56s 286ms/step - loss: 0.5454 - accuracy: 0.7294 - val_loss: 0.6666 - val_accuracy: 0.6302\n",
      "Epoch 8/10\n",
      "196/196 [==============================] - 56s 285ms/step - loss: 0.5534 - accuracy: 0.7208 - val_loss: 0.5910 - val_accuracy: 0.6953\n",
      "Epoch 9/10\n",
      "196/196 [==============================] - 56s 288ms/step - loss: 0.5682 - accuracy: 0.6990 - val_loss: 0.6201 - val_accuracy: 0.6693\n",
      "Epoch 10/10\n",
      "196/196 [==============================] - 56s 284ms/step - loss: 0.5249 - accuracy: 0.7431 - val_loss: 0.5944 - val_accuracy: 0.6875\n"
     ]
    },
    {
     "data": {
      "image/png": "[encoded data removed]",
      "text/plain": [
       "<Figure size 432x288 with 1 Axes>"
      ]
     },
     "metadata": {
      "needs_background": "light"
     },
     "output_type": "display_data"
    },
    {
     "name": "stdout",
     "output_type": "stream",
     "text": [
      "    196/Unknown - 28s 141ms/step - loss: 0.5709 - accuracy: 0.7032"
     ]
    }
   ],
   "source": [
    "model = Sequential([\n",
    "    Embedding(encoder.vocab_size, 300, trainable=False),\n",
    "    Bidirectional(LSTM(32, return_sequences=True), merge_mode='concat'),\n",
    "    Bidirectional(LSTM(32), merge_mode='concat'),\n",
    "    Dense(32, activation='elu'),\n",
    "    Dropout(0.25),\n",
    "    Dense(1, activation='sigmoid')\n",
    "])\n",
    "\n",
    "model.summary()\n",
    "    \n",
    "model.compile(optimizer='adam', \n",
    "          loss='binary_crossentropy', \n",
    "          metrics=['accuracy'])\n",
    "\n",
    "history = model.fit(\n",
    "                train_dataset,\n",
    "                epochs=10,\n",
    "                validation_data=test_dataset,\n",
    "                validation_steps=3,\n",
    "                )\n",
    "\n",
    "plt.plot(history.history['accuracy'], \n",
    "     label='Accuracy Train')\n",
    "plt.plot(history.history['val_accuracy'], \n",
    "         label='Accuracy Val')\n",
    "plt.xlabel('Epoch')\n",
    "plt.ylabel('Accuracy')\n",
    "plt.legend()\n",
    "plt.show()\n",
    "\n",
    "scores = model.evaluate(test_dataset, verbose=1)"
   ]
  },
  {
   "cell_type": "code",
   "execution_count": null,
   "metadata": {},
   "outputs": [],
   "source": []
  }
 ],
 "metadata": {
  "kernelspec": {
   "display_name": "py37",
   "language": "python",
   "name": "py37"
  },
  "language_info": {
   "codemirror_mode": {
    "name": "ipython",
    "version": 3
   },
   "file_extension": ".py",
   "mimetype": "text/x-python",
   "name": "python",
   "nbconvert_exporter": "python",
   "pygments_lexer": "ipython3",
   "version": "3.7.7"
  }
 },
 "nbformat": 4,
 "nbformat_minor": 2
}
